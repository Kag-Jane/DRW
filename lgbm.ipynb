{
 "cells": [
  {
   "cell_type": "markdown",
   "id": "599ab273",
   "metadata": {},
   "source": [
    "#### DRW - Crypto Market Prediction\n",
    "\n",
    "Develop a model capable of predicting crypto future price movements.\n",
    "\n",
    "Link to the competition: https://www.kaggle.com/competitions/drw-crypto-market-prediction/overview\n",
    "\n",
    "The evaluation metric is: Pearson correlation coefficient (PCC)"
   ]
  },
  {
   "cell_type": "code",
   "execution_count": 1,
   "id": "e809fbda",
   "metadata": {},
   "outputs": [],
   "source": [
    "import numpy as np\n",
    "import polars as pls\n",
    "from pathlib import Path\n",
    "import lightgbm as lgb\n",
    "\n",
    "import plotly.express as px"
   ]
  },
  {
   "cell_type": "code",
   "execution_count": 2,
   "id": "016652e7",
   "metadata": {},
   "outputs": [],
   "source": [
    "data_path = \"/home/yang/team_kaggle/drw/data\""
   ]
  },
  {
   "cell_type": "code",
   "execution_count": 3,
   "id": "2a803a22",
   "metadata": {},
   "outputs": [
    {
     "data": {
      "text/html": [
       "<div><style>\n",
       ".dataframe > thead > tr,\n",
       ".dataframe > tbody > tr {\n",
       "  text-align: right;\n",
       "  white-space: pre-wrap;\n",
       "}\n",
       "</style>\n",
       "<small>shape: (10, 897)</small><table border=\"1\" class=\"dataframe\"><thead><tr><th>bid_qty</th><th>ask_qty</th><th>buy_qty</th><th>sell_qty</th><th>volume</th><th>X1</th><th>X2</th><th>X3</th><th>X4</th><th>X5</th><th>X6</th><th>X7</th><th>X8</th><th>X9</th><th>X10</th><th>X11</th><th>X12</th><th>X13</th><th>X14</th><th>X15</th><th>X16</th><th>X17</th><th>X18</th><th>X19</th><th>X20</th><th>X21</th><th>X22</th><th>X23</th><th>X24</th><th>X25</th><th>X26</th><th>X27</th><th>X28</th><th>X29</th><th>X30</th><th>X31</th><th>X32</th><th>&hellip;</th><th>X856</th><th>X857</th><th>X858</th><th>X859</th><th>X860</th><th>X861</th><th>X862</th><th>X863</th><th>X864</th><th>X865</th><th>X866</th><th>X867</th><th>X868</th><th>X869</th><th>X870</th><th>X871</th><th>X872</th><th>X873</th><th>X874</th><th>X875</th><th>X876</th><th>X877</th><th>X878</th><th>X879</th><th>X880</th><th>X881</th><th>X882</th><th>X883</th><th>X884</th><th>X885</th><th>X886</th><th>X887</th><th>X888</th><th>X889</th><th>X890</th><th>label</th><th>timestamp</th></tr><tr><td>f64</td><td>f64</td><td>f64</td><td>f64</td><td>f64</td><td>f64</td><td>f64</td><td>f64</td><td>f64</td><td>f64</td><td>f64</td><td>f64</td><td>f64</td><td>f64</td><td>f64</td><td>f64</td><td>f64</td><td>f64</td><td>f64</td><td>f64</td><td>f64</td><td>f64</td><td>f64</td><td>f64</td><td>f64</td><td>f64</td><td>f64</td><td>f64</td><td>f64</td><td>f64</td><td>f64</td><td>f64</td><td>f64</td><td>f64</td><td>f64</td><td>f64</td><td>f64</td><td>&hellip;</td><td>f64</td><td>f64</td><td>f64</td><td>f64</td><td>f64</td><td>f64</td><td>f64</td><td>f64</td><td>f64</td><td>f64</td><td>f64</td><td>f64</td><td>f64</td><td>f64</td><td>f64</td><td>f64</td><td>f64</td><td>f64</td><td>f64</td><td>f64</td><td>f64</td><td>f64</td><td>f64</td><td>f64</td><td>f64</td><td>f64</td><td>f64</td><td>f64</td><td>f64</td><td>f64</td><td>f64</td><td>f64</td><td>f64</td><td>f64</td><td>f64</td><td>f64</td><td>datetime[ns]</td></tr></thead><tbody><tr><td>10.201</td><td>3.554</td><td>137.504</td><td>477.139</td><td>614.643</td><td>0.455945</td><td>0.156054</td><td>0.22047</td><td>0.314345</td><td>0.213229</td><td>0.309831</td><td>0.342415</td><td>0.364929</td><td>0.782787</td><td>0.437171</td><td>0.558691</td><td>0.719275</td><td>0.934595</td><td>0.594639</td><td>0.624011</td><td>0.634845</td><td>1.572796</td><td>0.356922</td><td>0.610073</td><td>0.471605</td><td>0.617061</td><td>0.221393</td><td>0.160492</td><td>0.188</td><td>1.6113</td><td>0.082352</td><td>0.13999</td><td>0.225973</td><td>0.172749</td><td>-0.11272</td><td>-0.170855</td><td>-0.065223</td><td>&hellip;</td><td>1.221426</td><td>-0.186892</td><td>0.493867</td><td>-2.2141e-34</td><td>0.44962</td><td>-0.164752</td><td>0.183902</td><td>0.102021</td><td>0.0</td><td>1.592214</td><td>-0.445619</td><td>0.0</td><td>-0.086006</td><td>0.0</td><td>0.0</td><td>0.0</td><td>0.0</td><td>0.523175</td><td>0.22928</td><td>2.799699</td><td>4.053666</td><td>0.22096</td><td>0.22589</td><td>0.473638</td><td>0.521432</td><td>0.583462</td><td>1.262546</td><td>1.557144</td><td>1.471337</td><td>1.471337</td><td>1.471337</td><td>1.471337</td><td>1.468739</td><td>1.410402</td><td>2.360201</td><td>0.513817</td><td>2023-06-25 11:04:00</td></tr><tr><td>7.955</td><td>12.834</td><td>9.427</td><td>11.389</td><td>20.816</td><td>-0.296205</td><td>-0.077624</td><td>-0.164131</td><td>-0.217358</td><td>-0.122609</td><td>-0.111764</td><td>-0.147973</td><td>-0.194297</td><td>-0.014491</td><td>0.088987</td><td>-0.004808</td><td>0.029109</td><td>0.222959</td><td>0.209831</td><td>0.137743</td><td>0.061467</td><td>0.804471</td><td>0.133721</td><td>0.2913</td><td>0.223908</td><td>0.286692</td><td>-0.07402</td><td>-0.256348</td><td>-0.260209</td><td>1.204841</td><td>-0.052857</td><td>0.042527</td><td>0.091091</td><td>0.062379</td><td>-0.099559</td><td>-0.092654</td><td>0.013202</td><td>&hellip;</td><td>0.140121</td><td>0.10829</td><td>0.416409</td><td>-0.034783</td><td>-0.206572</td><td>0.717057</td><td>-1.53189</td><td>0.394755</td><td>0.0</td><td>1.067378</td><td>-0.441767</td><td>0.0</td><td>0.044831</td><td>0.0</td><td>0.0</td><td>0.0</td><td>0.0</td><td>0.627796</td><td>0.248407</td><td>2.636226</td><td>3.711776</td><td>0.176848</td><td>0.215451</td><td>0.533364</td><td>0.752753</td><td>1.123312</td><td>2.353131</td><td>2.262618</td><td>0.000688</td><td>0.000681</td><td>0.010116</td><td>0.060824</td><td>0.113785</td><td>0.099791</td><td>0.208067</td><td>0.639713</td><td>2023-06-16 02:41:00</td></tr><tr><td>16.253</td><td>8.612</td><td>316.883</td><td>69.078</td><td>385.961</td><td>-0.072822</td><td>-0.30619</td><td>0.144202</td><td>0.186061</td><td>0.052609</td><td>-0.051571</td><td>-0.082299</td><td>-0.089195</td><td>0.120548</td><td>-0.198927</td><td>0.002799</td><td>0.00918</td><td>-0.063864</td><td>-0.094576</td><td>-0.080923</td><td>-0.048403</td><td>1.11094</td><td>0.017592</td><td>0.550179</td><td>0.489121</td><td>0.66136</td><td>0.391317</td><td>0.303432</td><td>0.136173</td><td>0.952494</td><td>0.149705</td><td>0.678679</td><td>1.098371</td><td>1.323821</td><td>0.623288</td><td>0.425273</td><td>0.082367</td><td>&hellip;</td><td>0.182098</td><td>0.142667</td><td>0.368144</td><td>0.363662</td><td>0.273017</td><td>-0.554033</td><td>-0.824959</td><td>0.167162</td><td>0.0</td><td>1.160456</td><td>-0.061886</td><td>0.0</td><td>0.133485</td><td>0.0</td><td>0.0</td><td>0.0</td><td>0.0</td><td>0.679556</td><td>0.24292</td><td>2.566681</td><td>4.341193</td><td>0.446872</td><td>0.499126</td><td>1.074451</td><td>1.121207</td><td>1.136961</td><td>2.211898</td><td>2.084438</td><td>0.000714</td><td>0.000612</td><td>0.000432</td><td>0.00029</td><td>0.005688</td><td>0.02585</td><td>0.212906</td><td>-0.171524</td><td>2023-03-01 22:00:00</td></tr><tr><td>3.778</td><td>4.864</td><td>213.121</td><td>170.398</td><td>383.519</td><td>0.043671</td><td>-0.249998</td><td>-0.069011</td><td>0.177828</td><td>0.158949</td><td>0.163474</td><td>0.14469</td><td>0.144913</td><td>0.436186</td><td>-0.183944</td><td>0.281176</td><td>0.730603</td><td>1.035081</td><td>0.584057</td><td>0.586901</td><td>0.604066</td><td>0.059724</td><td>0.446625</td><td>1.459665</td><td>1.055542</td><td>1.283784</td><td>0.678095</td><td>0.541884</td><td>0.441548</td><td>0.559886</td><td>0.918481</td><td>0.894511</td><td>1.194638</td><td>1.420389</td><td>0.640372</td><td>0.257607</td><td>-0.003234</td><td>&hellip;</td><td>-0.212133</td><td>0.203845</td><td>0.569276</td><td>-1.407489</td><td>0.659926</td><td>-0.44841</td><td>0.340363</td><td>0.000176</td><td>0.0</td><td>0.192575</td><td>0.70822</td><td>0.0</td><td>-0.363277</td><td>0.0</td><td>0.0</td><td>0.0</td><td>0.0</td><td>0.570799</td><td>0.203565</td><td>2.924183</td><td>4.176899</td><td>0.772395</td><td>0.579167</td><td>0.863318</td><td>0.633419</td><td>0.591128</td><td>1.488359</td><td>1.745534</td><td>0.000544</td><td>0.000468</td><td>0.000496</td><td>0.003245</td><td>0.040697</td><td>0.05966</td><td>0.160684</td><td>0.031799</td><td>2023-03-24 08:56:00</td></tr><tr><td>5.185</td><td>5.32</td><td>72.752</td><td>15.147</td><td>87.899</td><td>0.366187</td><td>-0.846847</td><td>-0.951879</td><td>-0.682562</td><td>-0.082663</td><td>0.262573</td><td>0.254918</td><td>0.231903</td><td>0.925197</td><td>-0.439139</td><td>-0.365102</td><td>0.076913</td><td>0.70938</td><td>0.664166</td><td>0.641591</td><td>0.618421</td><td>1.385803</td><td>-0.076158</td><td>0.087634</td><td>0.170724</td><td>0.373188</td><td>0.365099</td><td>0.433553</td><td>0.507511</td><td>1.239519</td><td>-0.381761</td><td>-0.089616</td><td>0.07396</td><td>0.34021</td><td>0.452311</td><td>0.585439</td><td>0.329714</td><td>&hellip;</td><td>-0.142669</td><td>0.23923</td><td>0.397981</td><td>-0.260967</td><td>0.374333</td><td>-0.15952</td><td>0.072865</td><td>-0.618188</td><td>0.0</td><td>1.426134</td><td>0.566085</td><td>0.0</td><td>0.219349</td><td>0.0</td><td>0.0</td><td>0.0</td><td>0.0</td><td>0.429022</td><td>0.24495</td><td>2.139902</td><td>4.216017</td><td>0.385669</td><td>0.432073</td><td>0.809794</td><td>0.791336</td><td>0.823082</td><td>1.508344</td><td>1.418105</td><td>0.000448</td><td>0.000764</td><td>0.021119</td><td>0.16817</td><td>0.683066</td><td>0.960149</td><td>2.085619</td><td>-0.038752</td><td>2023-11-27 03:14:00</td></tr><tr><td>3.471</td><td>10.965</td><td>118.344</td><td>234.565</td><td>352.909</td><td>-0.01295</td><td>-0.916387</td><td>-1.001151</td><td>-0.979312</td><td>-0.452772</td><td>-0.310239</td><td>-0.184183</td><td>-0.082118</td><td>0.554539</td><td>-0.367667</td><td>-0.550876</td><td>-0.558884</td><td>-0.284039</td><td>0.226392</td><td>0.400547</td><td>0.498758</td><td>0.164489</td><td>-0.248189</td><td>-0.285203</td><td>-0.018297</td><td>0.285942</td><td>0.410915</td><td>0.505163</td><td>0.522504</td><td>-0.10083</td><td>-0.32766</td><td>-0.114958</td><td>0.067197</td><td>0.366651</td><td>0.383505</td><td>0.387655</td><td>0.153838</td><td>&hellip;</td><td>-0.694261</td><td>-0.066402</td><td>-0.174595</td><td>-0.319432</td><td>0.231219</td><td>-0.785333</td><td>-0.848432</td><td>-0.554211</td><td>0.0</td><td>0.040113</td><td>0.234099</td><td>0.0</td><td>0.189972</td><td>0.0</td><td>0.0</td><td>0.0</td><td>0.0</td><td>0.598093</td><td>0.248313</td><td>2.353946</td><td>3.905381</td><td>0.480762</td><td>0.609753</td><td>1.527637</td><td>1.561029</td><td>1.225665</td><td>2.276093</td><td>2.27752</td><td>0.000131</td><td>0.000192</td><td>0.000286</td><td>0.000905</td><td>0.024081</td><td>0.046826</td><td>0.18604</td><td>-2.15986</td><td>2023-09-21 12:05:00</td></tr><tr><td>25.08</td><td>2.59</td><td>24.268</td><td>33.291</td><td>57.559</td><td>0.058622</td><td>0.144888</td><td>0.219225</td><td>0.306257</td><td>0.155261</td><td>0.101146</td><td>0.069733</td><td>0.07347</td><td>0.678041</td><td>0.341619</td><td>0.40634</td><td>0.510519</td><td>0.606749</td><td>0.443816</td><td>0.515032</td><td>0.583422</td><td>1.842617</td><td>0.000479</td><td>0.03499</td><td>0.044169</td><td>0.067533</td><td>0.20217</td><td>0.483295</td><td>0.751861</td><td>1.522328</td><td>0.179096</td><td>0.12734</td><td>0.18375</td><td>0.269657</td><td>0.428783</td><td>0.709575</td><td>0.431212</td><td>&hellip;</td><td>-0.759989</td><td>0.146603</td><td>0.160342</td><td>-1.323782</td><td>-0.065811</td><td>-0.374989</td><td>-2.074262</td><td>-2.849765</td><td>0.0</td><td>1.889307</td><td>0.673759</td><td>0.0</td><td>1.188797</td><td>0.0</td><td>0.0</td><td>0.0</td><td>0.0</td><td>0.641367</td><td>0.254372</td><td>2.600509</td><td>3.924154</td><td>0.197938</td><td>0.261292</td><td>0.635518</td><td>0.738682</td><td>0.965373</td><td>2.128975</td><td>2.077653</td><td>0.000144</td><td>0.000183</td><td>0.00025</td><td>0.001598</td><td>0.031448</td><td>0.053632</td><td>0.199233</td><td>-0.169867</td><td>2023-06-15 10:30:00</td></tr><tr><td>13.327</td><td>3.998</td><td>56.283</td><td>83.104</td><td>139.387</td><td>0.087819</td><td>0.071519</td><td>0.010885</td><td>-0.045924</td><td>0.020215</td><td>0.132164</td><td>0.169709</td><td>0.157627</td><td>0.215911</td><td>0.121137</td><td>0.214129</td><td>0.447395</td><td>0.812521</td><td>0.531686</td><td>0.465311</td><td>0.353545</td><td>0.229933</td><td>0.215197</td><td>0.542088</td><td>0.486209</td><td>0.716359</td><td>0.080867</td><td>-0.363353</td><td>-0.595622</td><td>0.220845</td><td>-0.007453</td><td>-0.136394</td><td>-0.244805</td><td>-0.377848</td><td>-0.668244</td><td>-1.117763</td><td>-0.680304</td><td>&hellip;</td><td>0.273147</td><td>-0.263601</td><td>0.279293</td><td>-0.017561</td><td>0.024016</td><td>0.82098</td><td>-0.356351</td><td>-0.145383</td><td>0.0</td><td>0.10141</td><td>-0.098592</td><td>0.0</td><td>-0.250188</td><td>0.0</td><td>0.0</td><td>0.0</td><td>0.0</td><td>0.561035</td><td>0.23998</td><td>2.673297</td><td>3.828655</td><td>0.252521</td><td>0.317991</td><td>0.644384</td><td>0.674484</td><td>0.922768</td><td>1.977663</td><td>1.951227</td><td>0.000688</td><td>0.002814</td><td>0.036465</td><td>0.117255</td><td>0.142213</td><td>0.13076</td><td>0.480548</td><td>-0.220354</td><td>2023-05-03 01:22:00</td></tr><tr><td>13.076</td><td>10.334</td><td>10.079</td><td>24.353</td><td>34.432</td><td>0.380026</td><td>0.034226</td><td>0.331992</td><td>0.521779</td><td>0.278908</td><td>0.234114</td><td>0.239633</td><td>0.274364</td><td>0.457262</td><td>0.274066</td><td>0.627949</td><td>0.827941</td><td>0.858582</td><td>0.349044</td><td>0.30552</td><td>0.310116</td><td>0.408948</td><td>0.045138</td><td>0.194601</td><td>0.151395</td><td>0.190465</td><td>0.142909</td><td>0.190049</td><td>0.16137</td><td>0.598669</td><td>0.050055</td><td>0.110275</td><td>0.176206</td><td>0.187957</td><td>0.059206</td><td>0.063559</td><td>0.036737</td><td>&hellip;</td><td>-1.33288</td><td>0.008212</td><td>0.222962</td><td>-2.4379e-14</td><td>0.282143</td><td>-0.090949</td><td>-0.493808</td><td>0.447315</td><td>0.0</td><td>0.436508</td><td>-0.131594</td><td>0.0</td><td>0.17734</td><td>0.0</td><td>0.0</td><td>0.0</td><td>0.0</td><td>0.594257</td><td>0.244214</td><td>2.648094</td><td>4.212401</td><td>0.210726</td><td>0.219872</td><td>0.404645</td><td>0.348648</td><td>0.353863</td><td>1.107783</td><td>1.645903</td><td>1.583839</td><td>1.583839</td><td>1.583839</td><td>1.582958</td><td>1.454907</td><td>1.137778</td><td>1.527079</td><td>0.162886</td><td>2023-09-30 12:03:00</td></tr><tr><td>6.647</td><td>8.536</td><td>28.586</td><td>41.018</td><td>69.604</td><td>-0.479615</td><td>0.023197</td><td>-0.169166</td><td>-0.393688</td><td>-0.2996</td><td>-0.374821</td><td>-0.388663</td><td>-0.414664</td><td>-0.407715</td><td>-0.0264</td><td>-0.402555</td><td>-0.748217</td><td>-0.983668</td><td>-0.436323</td><td>-0.362704</td><td>-0.363851</td><td>0.669559</td><td>-0.015269</td><td>-0.255721</td><td>-0.227711</td><td>-0.303017</td><td>-0.155793</td><td>-0.164142</td><td>-0.207332</td><td>1.109342</td><td>-0.206616</td><td>-0.166416</td><td>-0.187</td><td>-0.188173</td><td>-0.106096</td><td>-0.102471</td><td>-0.033899</td><td>&hellip;</td><td>-0.171526</td><td>0.084064</td><td>-0.392018</td><td>0.200561</td><td>-0.104295</td><td>0.045211</td><td>-1.623976</td><td>-0.500666</td><td>0.0</td><td>0.863076</td><td>-1.332445</td><td>0.0</td><td>0.499386</td><td>0.0</td><td>0.0</td><td>0.0</td><td>0.0</td><td>0.617844</td><td>0.246833</td><td>2.150004</td><td>3.203887</td><td>0.243543</td><td>0.233608</td><td>0.476988</td><td>0.578602</td><td>0.72504</td><td>1.538565</td><td>1.640998</td><td>1.419265</td><td>0.860638</td><td>0.517406</td><td>0.285446</td><td>0.135379</td><td>0.276062</td><td>1.100434</td><td>0.099343</td><td>2023-06-12 21:24:00</td></tr></tbody></table></div>"
      ],
      "text/plain": [
       "shape: (10, 897)\n",
       "┌─────────┬─────────┬─────────┬──────────┬───┬──────────┬──────────┬───────────┬──────────────┐\n",
       "│ bid_qty ┆ ask_qty ┆ buy_qty ┆ sell_qty ┆ … ┆ X889     ┆ X890     ┆ label     ┆ timestamp    │\n",
       "│ ---     ┆ ---     ┆ ---     ┆ ---      ┆   ┆ ---      ┆ ---      ┆ ---       ┆ ---          │\n",
       "│ f64     ┆ f64     ┆ f64     ┆ f64      ┆   ┆ f64      ┆ f64      ┆ f64       ┆ datetime[ns] │\n",
       "╞═════════╪═════════╪═════════╪══════════╪═══╪══════════╪══════════╪═══════════╪══════════════╡\n",
       "│ 10.201  ┆ 3.554   ┆ 137.504 ┆ 477.139  ┆ … ┆ 1.410402 ┆ 2.360201 ┆ 0.513817  ┆ 2023-06-25   │\n",
       "│         ┆         ┆         ┆          ┆   ┆          ┆          ┆           ┆ 11:04:00     │\n",
       "│ 7.955   ┆ 12.834  ┆ 9.427   ┆ 11.389   ┆ … ┆ 0.099791 ┆ 0.208067 ┆ 0.639713  ┆ 2023-06-16   │\n",
       "│         ┆         ┆         ┆          ┆   ┆          ┆          ┆           ┆ 02:41:00     │\n",
       "│ 16.253  ┆ 8.612   ┆ 316.883 ┆ 69.078   ┆ … ┆ 0.02585  ┆ 0.212906 ┆ -0.171524 ┆ 2023-03-01   │\n",
       "│         ┆         ┆         ┆          ┆   ┆          ┆          ┆           ┆ 22:00:00     │\n",
       "│ 3.778   ┆ 4.864   ┆ 213.121 ┆ 170.398  ┆ … ┆ 0.05966  ┆ 0.160684 ┆ 0.031799  ┆ 2023-03-24   │\n",
       "│         ┆         ┆         ┆          ┆   ┆          ┆          ┆           ┆ 08:56:00     │\n",
       "│ 5.185   ┆ 5.32    ┆ 72.752  ┆ 15.147   ┆ … ┆ 0.960149 ┆ 2.085619 ┆ -0.038752 ┆ 2023-11-27   │\n",
       "│         ┆         ┆         ┆          ┆   ┆          ┆          ┆           ┆ 03:14:00     │\n",
       "│ 3.471   ┆ 10.965  ┆ 118.344 ┆ 234.565  ┆ … ┆ 0.046826 ┆ 0.18604  ┆ -2.15986  ┆ 2023-09-21   │\n",
       "│         ┆         ┆         ┆          ┆   ┆          ┆          ┆           ┆ 12:05:00     │\n",
       "│ 25.08   ┆ 2.59    ┆ 24.268  ┆ 33.291   ┆ … ┆ 0.053632 ┆ 0.199233 ┆ -0.169867 ┆ 2023-06-15   │\n",
       "│         ┆         ┆         ┆          ┆   ┆          ┆          ┆           ┆ 10:30:00     │\n",
       "│ 13.327  ┆ 3.998   ┆ 56.283  ┆ 83.104   ┆ … ┆ 0.13076  ┆ 0.480548 ┆ -0.220354 ┆ 2023-05-03   │\n",
       "│         ┆         ┆         ┆          ┆   ┆          ┆          ┆           ┆ 01:22:00     │\n",
       "│ 13.076  ┆ 10.334  ┆ 10.079  ┆ 24.353   ┆ … ┆ 1.137778 ┆ 1.527079 ┆ 0.162886  ┆ 2023-09-30   │\n",
       "│         ┆         ┆         ┆          ┆   ┆          ┆          ┆           ┆ 12:03:00     │\n",
       "│ 6.647   ┆ 8.536   ┆ 28.586  ┆ 41.018   ┆ … ┆ 0.276062 ┆ 1.100434 ┆ 0.099343  ┆ 2023-06-12   │\n",
       "│         ┆         ┆         ┆          ┆   ┆          ┆          ┆           ┆ 21:24:00     │\n",
       "└─────────┴─────────┴─────────┴──────────┴───┴──────────┴──────────┴───────────┴──────────────┘"
      ]
     },
     "execution_count": 3,
     "metadata": {},
     "output_type": "execute_result"
    }
   ],
   "source": [
    "training_data = pls.read_parquet(Path(data_path, \"train.parquet\"))\n",
    "# Shuffle the training set\n",
    "training_data = training_data.sample(fraction=1.0, shuffle=True, seed=42)\n",
    "training_data.head(10)"
   ]
  },
  {
   "cell_type": "code",
   "execution_count": 4,
   "id": "ea264c7e",
   "metadata": {},
   "outputs": [
    {
     "name": "stdout",
     "output_type": "stream",
     "text": [
      "Size of training data (GB): 3.5145926401019096\n"
     ]
    }
   ],
   "source": [
    "print(\"Size of training data (GB):\", training_data.estimated_size(\"gb\"))"
   ]
  },
  {
   "cell_type": "code",
   "execution_count": 5,
   "id": "603d10c9",
   "metadata": {},
   "outputs": [
    {
     "data": {
      "text/html": [
       "<div><style>\n",
       ".dataframe > thead > tr,\n",
       ".dataframe > tbody > tr {\n",
       "  text-align: right;\n",
       "  white-space: pre-wrap;\n",
       "}\n",
       "</style>\n",
       "<small>shape: (1, 897)</small><table border=\"1\" class=\"dataframe\"><thead><tr><th>bid_qty</th><th>ask_qty</th><th>buy_qty</th><th>sell_qty</th><th>volume</th><th>X1</th><th>X2</th><th>X3</th><th>X4</th><th>X5</th><th>X6</th><th>X7</th><th>X8</th><th>X9</th><th>X10</th><th>X11</th><th>X12</th><th>X13</th><th>X14</th><th>X15</th><th>X16</th><th>X17</th><th>X18</th><th>X19</th><th>X20</th><th>X21</th><th>X22</th><th>X23</th><th>X24</th><th>X25</th><th>X26</th><th>X27</th><th>X28</th><th>X29</th><th>X30</th><th>X31</th><th>X32</th><th>&hellip;</th><th>X856</th><th>X857</th><th>X858</th><th>X859</th><th>X860</th><th>X861</th><th>X862</th><th>X863</th><th>X864</th><th>X865</th><th>X866</th><th>X867</th><th>X868</th><th>X869</th><th>X870</th><th>X871</th><th>X872</th><th>X873</th><th>X874</th><th>X875</th><th>X876</th><th>X877</th><th>X878</th><th>X879</th><th>X880</th><th>X881</th><th>X882</th><th>X883</th><th>X884</th><th>X885</th><th>X886</th><th>X887</th><th>X888</th><th>X889</th><th>X890</th><th>label</th><th>timestamp</th></tr><tr><td>u32</td><td>u32</td><td>u32</td><td>u32</td><td>u32</td><td>u32</td><td>u32</td><td>u32</td><td>u32</td><td>u32</td><td>u32</td><td>u32</td><td>u32</td><td>u32</td><td>u32</td><td>u32</td><td>u32</td><td>u32</td><td>u32</td><td>u32</td><td>u32</td><td>u32</td><td>u32</td><td>u32</td><td>u32</td><td>u32</td><td>u32</td><td>u32</td><td>u32</td><td>u32</td><td>u32</td><td>u32</td><td>u32</td><td>u32</td><td>u32</td><td>u32</td><td>u32</td><td>&hellip;</td><td>u32</td><td>u32</td><td>u32</td><td>u32</td><td>u32</td><td>u32</td><td>u32</td><td>u32</td><td>u32</td><td>u32</td><td>u32</td><td>u32</td><td>u32</td><td>u32</td><td>u32</td><td>u32</td><td>u32</td><td>u32</td><td>u32</td><td>u32</td><td>u32</td><td>u32</td><td>u32</td><td>u32</td><td>u32</td><td>u32</td><td>u32</td><td>u32</td><td>u32</td><td>u32</td><td>u32</td><td>u32</td><td>u32</td><td>u32</td><td>u32</td><td>u32</td><td>u32</td></tr></thead><tbody><tr><td>0</td><td>0</td><td>0</td><td>0</td><td>0</td><td>0</td><td>0</td><td>0</td><td>0</td><td>0</td><td>0</td><td>0</td><td>0</td><td>0</td><td>0</td><td>0</td><td>0</td><td>0</td><td>0</td><td>0</td><td>0</td><td>0</td><td>0</td><td>0</td><td>0</td><td>0</td><td>0</td><td>0</td><td>0</td><td>0</td><td>0</td><td>0</td><td>0</td><td>0</td><td>0</td><td>0</td><td>0</td><td>&hellip;</td><td>0</td><td>0</td><td>0</td><td>0</td><td>0</td><td>0</td><td>0</td><td>0</td><td>0</td><td>0</td><td>0</td><td>0</td><td>0</td><td>0</td><td>0</td><td>0</td><td>0</td><td>0</td><td>0</td><td>0</td><td>0</td><td>0</td><td>0</td><td>0</td><td>0</td><td>0</td><td>0</td><td>0</td><td>0</td><td>0</td><td>0</td><td>0</td><td>0</td><td>0</td><td>0</td><td>0</td><td>0</td></tr></tbody></table></div>"
      ],
      "text/plain": [
       "shape: (1, 897)\n",
       "┌─────────┬─────────┬─────────┬──────────┬───┬──────┬──────┬───────┬───────────┐\n",
       "│ bid_qty ┆ ask_qty ┆ buy_qty ┆ sell_qty ┆ … ┆ X889 ┆ X890 ┆ label ┆ timestamp │\n",
       "│ ---     ┆ ---     ┆ ---     ┆ ---      ┆   ┆ ---  ┆ ---  ┆ ---   ┆ ---       │\n",
       "│ u32     ┆ u32     ┆ u32     ┆ u32      ┆   ┆ u32  ┆ u32  ┆ u32   ┆ u32       │\n",
       "╞═════════╪═════════╪═════════╪══════════╪═══╪══════╪══════╪═══════╪═══════════╡\n",
       "│ 0       ┆ 0       ┆ 0       ┆ 0        ┆ … ┆ 0    ┆ 0    ┆ 0     ┆ 0         │\n",
       "└─────────┴─────────┴─────────┴──────────┴───┴──────┴──────┴───────┴───────────┘"
      ]
     },
     "execution_count": 5,
     "metadata": {},
     "output_type": "execute_result"
    }
   ],
   "source": [
    "# Count null values in each column\n",
    "null_counts = training_data.select([pls.col(column).null_count().alias(column) for column in training_data.columns])\n",
    "null_counts"
   ]
  },
  {
   "cell_type": "code",
   "execution_count": 6,
   "id": "4f783729",
   "metadata": {},
   "outputs": [],
   "source": [
    "training_split = int(len(training_data) * 0.8)\n",
    "validation_split = int(len(training_data) * 0.9)"
   ]
  },
  {
   "cell_type": "code",
   "execution_count": 7,
   "id": "cc643658",
   "metadata": {},
   "outputs": [],
   "source": [
    "# Set parameters for LightGBM\n",
    "params = {\n",
    "    'objective': 'regression',\n",
    "    'metric': 'rmse',\n",
    "    'boosting_type': 'gbdt',\n",
    "    'num_leaves': 31,\n",
    "    'learning_rate': 0.05,\n",
    "    'feature_fraction': 0.9\n",
    "}"
   ]
  },
  {
   "cell_type": "code",
   "execution_count": null,
   "id": "a54ddbf9",
   "metadata": {},
   "outputs": [],
   "source": [
    "#### Train a LightGBM model\n",
    "evals_result = {}\n",
    "\n",
    "train_feature_list = training_data.columns[:-2]  # Exclude 'label' and 'timestamp'\n",
    "\n",
    "training_data_loader = lgb.Dataset(training_data.select(pls.col(train_feature_list))[:training_split],\n",
    "                                   label=training_data.select(pls.col(\"label\"))[:training_split].to_numpy())\n",
    "\n",
    "validation_data_loader = lgb.Dataset(training_data.select(pls.col(train_feature_list))[training_split:validation_split],\n",
    "                                     label=training_data.select(pls.col(\"label\"))[training_split:validation_split].to_numpy())\n",
    "\n",
    "model = lgb.train(params, training_data_loader, num_boost_round=10,\n",
    "                  valid_sets=[training_data_loader, validation_data_loader],\n",
    "                  valid_names=['train', 'val'],\n",
    "                  callbacks=[lgb.early_stopping(stopping_rounds=5), lgb.record_evaluation(evals_result)],\n",
    "    )\n",
    "\n",
    "training_loss = evals_result['train']['rmse'][-1]\n",
    "validation_loss = evals_result['val']['rmse'][-1]\n",
    "print(\"Training Losses per iteration:\", training_loss)\n",
    "print(\"Validation Losses per iteration:\", validation_loss)\n",
    "\n",
    "model.save_model('drw_lgbm.txt')"
   ]
  },
  {
   "cell_type": "code",
   "execution_count": 11,
   "id": "84bb9719",
   "metadata": {},
   "outputs": [
    {
     "data": {
      "application/vnd.plotly.v1+json": {
       "config": {
        "plotlyServerURL": "https://plot.ly"
       },
       "data": [
        {
         "hovertemplate": "feature=%{x}<br>importance=%{y}<extra></extra>",
         "legendgroup": "",
         "marker": {
          "color": "#636efa",
          "pattern": {
           "shape": ""
          }
         },
         "name": "",
         "orientation": "v",
         "showlegend": false,
         "textposition": "auto",
         "type": "bar",
         "x": [
          "X785",
          "X466",
          "X284",
          "X279",
          "X537",
          "X862",
          "X198",
          "X371",
          "X287",
          "X292",
          "X863",
          "X385",
          "X883",
          "X786",
          "X282",
          "X22",
          "X662",
          "X530",
          "X804",
          "X840"
         ],
         "xaxis": "x",
         "y": {
          "bdata": "AAAAjgt62EAAAADLP5jUQAAAAAgX7M9AAAAADGhGxUAAAADmNgHEQAAAAOQqWcNAAAAAzCzLwUAAAADgOk2/QAAAAPQ9Q75AAAAAMJxAvkAAAABAP0e9QAAAAKSFRL1AAAAALMiRvEAAAACAFSW6QAAAAGAmj7lAAAAAENleuUAAAABgRKW3QAAAABhuZbdAAAAAKHLls0AAAADYRKKyQA==",
          "dtype": "f8"
         },
         "yaxis": "y"
        }
       ],
       "layout": {
        "barmode": "relative",
        "legend": {
         "tracegroupgap": 0
        },
        "template": {
         "data": {
          "bar": [
           {
            "error_x": {
             "color": "#2a3f5f"
            },
            "error_y": {
             "color": "#2a3f5f"
            },
            "marker": {
             "line": {
              "color": "#E5ECF6",
              "width": 0.5
             },
             "pattern": {
              "fillmode": "overlay",
              "size": 10,
              "solidity": 0.2
             }
            },
            "type": "bar"
           }
          ],
          "barpolar": [
           {
            "marker": {
             "line": {
              "color": "#E5ECF6",
              "width": 0.5
             },
             "pattern": {
              "fillmode": "overlay",
              "size": 10,
              "solidity": 0.2
             }
            },
            "type": "barpolar"
           }
          ],
          "carpet": [
           {
            "aaxis": {
             "endlinecolor": "#2a3f5f",
             "gridcolor": "white",
             "linecolor": "white",
             "minorgridcolor": "white",
             "startlinecolor": "#2a3f5f"
            },
            "baxis": {
             "endlinecolor": "#2a3f5f",
             "gridcolor": "white",
             "linecolor": "white",
             "minorgridcolor": "white",
             "startlinecolor": "#2a3f5f"
            },
            "type": "carpet"
           }
          ],
          "choropleth": [
           {
            "colorbar": {
             "outlinewidth": 0,
             "ticks": ""
            },
            "type": "choropleth"
           }
          ],
          "contour": [
           {
            "colorbar": {
             "outlinewidth": 0,
             "ticks": ""
            },
            "colorscale": [
             [
              0,
              "#0d0887"
             ],
             [
              0.1111111111111111,
              "#46039f"
             ],
             [
              0.2222222222222222,
              "#7201a8"
             ],
             [
              0.3333333333333333,
              "#9c179e"
             ],
             [
              0.4444444444444444,
              "#bd3786"
             ],
             [
              0.5555555555555556,
              "#d8576b"
             ],
             [
              0.6666666666666666,
              "#ed7953"
             ],
             [
              0.7777777777777778,
              "#fb9f3a"
             ],
             [
              0.8888888888888888,
              "#fdca26"
             ],
             [
              1,
              "#f0f921"
             ]
            ],
            "type": "contour"
           }
          ],
          "contourcarpet": [
           {
            "colorbar": {
             "outlinewidth": 0,
             "ticks": ""
            },
            "type": "contourcarpet"
           }
          ],
          "heatmap": [
           {
            "colorbar": {
             "outlinewidth": 0,
             "ticks": ""
            },
            "colorscale": [
             [
              0,
              "#0d0887"
             ],
             [
              0.1111111111111111,
              "#46039f"
             ],
             [
              0.2222222222222222,
              "#7201a8"
             ],
             [
              0.3333333333333333,
              "#9c179e"
             ],
             [
              0.4444444444444444,
              "#bd3786"
             ],
             [
              0.5555555555555556,
              "#d8576b"
             ],
             [
              0.6666666666666666,
              "#ed7953"
             ],
             [
              0.7777777777777778,
              "#fb9f3a"
             ],
             [
              0.8888888888888888,
              "#fdca26"
             ],
             [
              1,
              "#f0f921"
             ]
            ],
            "type": "heatmap"
           }
          ],
          "histogram": [
           {
            "marker": {
             "pattern": {
              "fillmode": "overlay",
              "size": 10,
              "solidity": 0.2
             }
            },
            "type": "histogram"
           }
          ],
          "histogram2d": [
           {
            "colorbar": {
             "outlinewidth": 0,
             "ticks": ""
            },
            "colorscale": [
             [
              0,
              "#0d0887"
             ],
             [
              0.1111111111111111,
              "#46039f"
             ],
             [
              0.2222222222222222,
              "#7201a8"
             ],
             [
              0.3333333333333333,
              "#9c179e"
             ],
             [
              0.4444444444444444,
              "#bd3786"
             ],
             [
              0.5555555555555556,
              "#d8576b"
             ],
             [
              0.6666666666666666,
              "#ed7953"
             ],
             [
              0.7777777777777778,
              "#fb9f3a"
             ],
             [
              0.8888888888888888,
              "#fdca26"
             ],
             [
              1,
              "#f0f921"
             ]
            ],
            "type": "histogram2d"
           }
          ],
          "histogram2dcontour": [
           {
            "colorbar": {
             "outlinewidth": 0,
             "ticks": ""
            },
            "colorscale": [
             [
              0,
              "#0d0887"
             ],
             [
              0.1111111111111111,
              "#46039f"
             ],
             [
              0.2222222222222222,
              "#7201a8"
             ],
             [
              0.3333333333333333,
              "#9c179e"
             ],
             [
              0.4444444444444444,
              "#bd3786"
             ],
             [
              0.5555555555555556,
              "#d8576b"
             ],
             [
              0.6666666666666666,
              "#ed7953"
             ],
             [
              0.7777777777777778,
              "#fb9f3a"
             ],
             [
              0.8888888888888888,
              "#fdca26"
             ],
             [
              1,
              "#f0f921"
             ]
            ],
            "type": "histogram2dcontour"
           }
          ],
          "mesh3d": [
           {
            "colorbar": {
             "outlinewidth": 0,
             "ticks": ""
            },
            "type": "mesh3d"
           }
          ],
          "parcoords": [
           {
            "line": {
             "colorbar": {
              "outlinewidth": 0,
              "ticks": ""
             }
            },
            "type": "parcoords"
           }
          ],
          "pie": [
           {
            "automargin": true,
            "type": "pie"
           }
          ],
          "scatter": [
           {
            "fillpattern": {
             "fillmode": "overlay",
             "size": 10,
             "solidity": 0.2
            },
            "type": "scatter"
           }
          ],
          "scatter3d": [
           {
            "line": {
             "colorbar": {
              "outlinewidth": 0,
              "ticks": ""
             }
            },
            "marker": {
             "colorbar": {
              "outlinewidth": 0,
              "ticks": ""
             }
            },
            "type": "scatter3d"
           }
          ],
          "scattercarpet": [
           {
            "marker": {
             "colorbar": {
              "outlinewidth": 0,
              "ticks": ""
             }
            },
            "type": "scattercarpet"
           }
          ],
          "scattergeo": [
           {
            "marker": {
             "colorbar": {
              "outlinewidth": 0,
              "ticks": ""
             }
            },
            "type": "scattergeo"
           }
          ],
          "scattergl": [
           {
            "marker": {
             "colorbar": {
              "outlinewidth": 0,
              "ticks": ""
             }
            },
            "type": "scattergl"
           }
          ],
          "scattermap": [
           {
            "marker": {
             "colorbar": {
              "outlinewidth": 0,
              "ticks": ""
             }
            },
            "type": "scattermap"
           }
          ],
          "scattermapbox": [
           {
            "marker": {
             "colorbar": {
              "outlinewidth": 0,
              "ticks": ""
             }
            },
            "type": "scattermapbox"
           }
          ],
          "scatterpolar": [
           {
            "marker": {
             "colorbar": {
              "outlinewidth": 0,
              "ticks": ""
             }
            },
            "type": "scatterpolar"
           }
          ],
          "scatterpolargl": [
           {
            "marker": {
             "colorbar": {
              "outlinewidth": 0,
              "ticks": ""
             }
            },
            "type": "scatterpolargl"
           }
          ],
          "scatterternary": [
           {
            "marker": {
             "colorbar": {
              "outlinewidth": 0,
              "ticks": ""
             }
            },
            "type": "scatterternary"
           }
          ],
          "surface": [
           {
            "colorbar": {
             "outlinewidth": 0,
             "ticks": ""
            },
            "colorscale": [
             [
              0,
              "#0d0887"
             ],
             [
              0.1111111111111111,
              "#46039f"
             ],
             [
              0.2222222222222222,
              "#7201a8"
             ],
             [
              0.3333333333333333,
              "#9c179e"
             ],
             [
              0.4444444444444444,
              "#bd3786"
             ],
             [
              0.5555555555555556,
              "#d8576b"
             ],
             [
              0.6666666666666666,
              "#ed7953"
             ],
             [
              0.7777777777777778,
              "#fb9f3a"
             ],
             [
              0.8888888888888888,
              "#fdca26"
             ],
             [
              1,
              "#f0f921"
             ]
            ],
            "type": "surface"
           }
          ],
          "table": [
           {
            "cells": {
             "fill": {
              "color": "#EBF0F8"
             },
             "line": {
              "color": "white"
             }
            },
            "header": {
             "fill": {
              "color": "#C8D4E3"
             },
             "line": {
              "color": "white"
             }
            },
            "type": "table"
           }
          ]
         },
         "layout": {
          "annotationdefaults": {
           "arrowcolor": "#2a3f5f",
           "arrowhead": 0,
           "arrowwidth": 1
          },
          "autotypenumbers": "strict",
          "coloraxis": {
           "colorbar": {
            "outlinewidth": 0,
            "ticks": ""
           }
          },
          "colorscale": {
           "diverging": [
            [
             0,
             "#8e0152"
            ],
            [
             0.1,
             "#c51b7d"
            ],
            [
             0.2,
             "#de77ae"
            ],
            [
             0.3,
             "#f1b6da"
            ],
            [
             0.4,
             "#fde0ef"
            ],
            [
             0.5,
             "#f7f7f7"
            ],
            [
             0.6,
             "#e6f5d0"
            ],
            [
             0.7,
             "#b8e186"
            ],
            [
             0.8,
             "#7fbc41"
            ],
            [
             0.9,
             "#4d9221"
            ],
            [
             1,
             "#276419"
            ]
           ],
           "sequential": [
            [
             0,
             "#0d0887"
            ],
            [
             0.1111111111111111,
             "#46039f"
            ],
            [
             0.2222222222222222,
             "#7201a8"
            ],
            [
             0.3333333333333333,
             "#9c179e"
            ],
            [
             0.4444444444444444,
             "#bd3786"
            ],
            [
             0.5555555555555556,
             "#d8576b"
            ],
            [
             0.6666666666666666,
             "#ed7953"
            ],
            [
             0.7777777777777778,
             "#fb9f3a"
            ],
            [
             0.8888888888888888,
             "#fdca26"
            ],
            [
             1,
             "#f0f921"
            ]
           ],
           "sequentialminus": [
            [
             0,
             "#0d0887"
            ],
            [
             0.1111111111111111,
             "#46039f"
            ],
            [
             0.2222222222222222,
             "#7201a8"
            ],
            [
             0.3333333333333333,
             "#9c179e"
            ],
            [
             0.4444444444444444,
             "#bd3786"
            ],
            [
             0.5555555555555556,
             "#d8576b"
            ],
            [
             0.6666666666666666,
             "#ed7953"
            ],
            [
             0.7777777777777778,
             "#fb9f3a"
            ],
            [
             0.8888888888888888,
             "#fdca26"
            ],
            [
             1,
             "#f0f921"
            ]
           ]
          },
          "colorway": [
           "#636efa",
           "#EF553B",
           "#00cc96",
           "#ab63fa",
           "#FFA15A",
           "#19d3f3",
           "#FF6692",
           "#B6E880",
           "#FF97FF",
           "#FECB52"
          ],
          "font": {
           "color": "#2a3f5f"
          },
          "geo": {
           "bgcolor": "white",
           "lakecolor": "white",
           "landcolor": "#E5ECF6",
           "showlakes": true,
           "showland": true,
           "subunitcolor": "white"
          },
          "hoverlabel": {
           "align": "left"
          },
          "hovermode": "closest",
          "mapbox": {
           "style": "light"
          },
          "paper_bgcolor": "white",
          "plot_bgcolor": "#E5ECF6",
          "polar": {
           "angularaxis": {
            "gridcolor": "white",
            "linecolor": "white",
            "ticks": ""
           },
           "bgcolor": "#E5ECF6",
           "radialaxis": {
            "gridcolor": "white",
            "linecolor": "white",
            "ticks": ""
           }
          },
          "scene": {
           "xaxis": {
            "backgroundcolor": "#E5ECF6",
            "gridcolor": "white",
            "gridwidth": 2,
            "linecolor": "white",
            "showbackground": true,
            "ticks": "",
            "zerolinecolor": "white"
           },
           "yaxis": {
            "backgroundcolor": "#E5ECF6",
            "gridcolor": "white",
            "gridwidth": 2,
            "linecolor": "white",
            "showbackground": true,
            "ticks": "",
            "zerolinecolor": "white"
           },
           "zaxis": {
            "backgroundcolor": "#E5ECF6",
            "gridcolor": "white",
            "gridwidth": 2,
            "linecolor": "white",
            "showbackground": true,
            "ticks": "",
            "zerolinecolor": "white"
           }
          },
          "shapedefaults": {
           "line": {
            "color": "#2a3f5f"
           }
          },
          "ternary": {
           "aaxis": {
            "gridcolor": "white",
            "linecolor": "white",
            "ticks": ""
           },
           "baxis": {
            "gridcolor": "white",
            "linecolor": "white",
            "ticks": ""
           },
           "bgcolor": "#E5ECF6",
           "caxis": {
            "gridcolor": "white",
            "linecolor": "white",
            "ticks": ""
           }
          },
          "title": {
           "x": 0.05
          },
          "xaxis": {
           "automargin": true,
           "gridcolor": "white",
           "linecolor": "white",
           "ticks": "",
           "title": {
            "standoff": 15
           },
           "zerolinecolor": "white",
           "zerolinewidth": 2
          },
          "yaxis": {
           "automargin": true,
           "gridcolor": "white",
           "linecolor": "white",
           "ticks": "",
           "title": {
            "standoff": 15
           },
           "zerolinecolor": "white",
           "zerolinewidth": 2
          }
         }
        },
        "title": {
         "text": "Top 20 Feature Importances (Gain)"
        },
        "xaxis": {
         "anchor": "y",
         "domain": [
          0,
          1
         ],
         "title": {
          "text": "feature"
         }
        },
        "yaxis": {
         "anchor": "x",
         "domain": [
          0,
          1
         ],
         "title": {
          "text": "importance"
         }
        }
       }
      }
     },
     "metadata": {},
     "output_type": "display_data"
    }
   ],
   "source": [
    "importances = model.feature_importance(importance_type='gain')\n",
    "feature_importance_df = pls.DataFrame({\n",
    "    \"feature\": train_feature_list,\n",
    "    \"importance\": importances\n",
    "}).sort(\"importance\", descending=True)\n",
    "\n",
    "feature_importance_df.head(20)\n",
    "\n",
    "px.bar(feature_importance_df.head(20).to_pandas(), x=\"feature\", y=\"importance\", title=\"Top 20 Feature Importances (Gain)\").show()"
   ]
  },
  {
   "cell_type": "markdown",
   "id": "9dda13df",
   "metadata": {},
   "source": [
    "#### Model evaluation"
   ]
  },
  {
   "cell_type": "code",
   "execution_count": null,
   "id": "a839acdf",
   "metadata": {},
   "outputs": [],
   "source": [
    "# load saved model to make predictions\n",
    "model = lgb.Booster(model_file='drw_lgbm.txt')\n",
    "\n",
    "y_pred = model.predict(training_data.select(pls.col(train_feature_list))[validation_split:])\n",
    "y_pred"
   ]
  },
  {
   "cell_type": "code",
   "execution_count": null,
   "id": "587b509c",
   "metadata": {},
   "outputs": [],
   "source": [
    "import matplotlib.pyplot as plt\n",
    "\n",
    "# Get ground truth labels for the validation set\n",
    "y_true = training_data.select(pls.col(\"label\"))[validation_split:].to_numpy().flatten()\n",
    "\n",
    "plt.figure(figsize=(15, 5))\n",
    "plt.plot(y_true, label='Ground Truth', alpha=0.7)\n",
    "plt.plot(y_pred, label='Prediction', alpha=0.7)\n",
    "plt.title('Validation Set: Prediction vs Ground Truth')\n",
    "plt.xlabel('Sample Index')\n",
    "plt.ylabel('Label')\n",
    "plt.legend()\n",
    "plt.tight_layout()\n",
    "plt.show()"
   ]
  },
  {
   "cell_type": "code",
   "execution_count": null,
   "id": "ec9b3b7a",
   "metadata": {},
   "outputs": [],
   "source": [
    "from scipy.stats import pearsonr\n",
    "\n",
    "# Calculate Pearson correlation coefficient\n",
    "pcc, _ = pearsonr(y_true, y_pred)\n",
    "print(\"Pearson correlation coefficient (PCC):\", pcc)"
   ]
  },
  {
   "cell_type": "markdown",
   "id": "a8988794",
   "metadata": {},
   "source": [
    "#### Predictions with test data for submission"
   ]
  },
  {
   "cell_type": "code",
   "execution_count": null,
   "id": "43a6eacc",
   "metadata": {},
   "outputs": [],
   "source": [
    "testing_data = pls.read_parquet(Path(data_path, \"test.parquet\")).drop(\"label\")\n",
    "testing_data.head(10)"
   ]
  },
  {
   "cell_type": "code",
   "execution_count": null,
   "id": "3d8cfa8d",
   "metadata": {},
   "outputs": [],
   "source": [
    "# predict on the test set\n",
    "predictions = model.predict(testing_data.select(pls.col(train_feature_list)))\n",
    "# prepare submission DataFrame\n",
    "submission_df = pls.DataFrame({\n",
    "    \"ID\": np.arange(1, len(predictions)+1),\n",
    "    \"prediction\": predictions\n",
    "})\n",
    "submission_df.write_csv(\"submission.csv\")\n",
    "submission_df"
   ]
  },
  {
   "cell_type": "code",
   "execution_count": null,
   "id": "a3660960",
   "metadata": {},
   "outputs": [],
   "source": [
    "sample_submission = pls.read_csv(Path(data_path, \"sample_submission.csv\"))\n",
    "sample_submission.head(10)"
   ]
  }
 ],
 "metadata": {
  "kernelspec": {
   "display_name": ".venv",
   "language": "python",
   "name": "python3"
  },
  "language_info": {
   "codemirror_mode": {
    "name": "ipython",
    "version": 3
   },
   "file_extension": ".py",
   "mimetype": "text/x-python",
   "name": "python",
   "nbconvert_exporter": "python",
   "pygments_lexer": "ipython3",
   "version": "3.12.10"
  }
 },
 "nbformat": 4,
 "nbformat_minor": 5
}
